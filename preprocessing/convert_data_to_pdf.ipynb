{
 "cells": [
  {
   "cell_type": "code",
   "execution_count": 1,
   "id": "62a0c986",
   "metadata": {},
   "outputs": [
    {
     "name": "stdout",
     "output_type": "stream",
     "text": [
      "Requirement already satisfied: pywin32 in c:\\users\\ghio_\\anaconda3\\envs\\llm\\lib\\site-packages (305.1)\n",
      "Note: you may need to restart the kernel to use updated packages.\n"
     ]
    }
   ],
   "source": [
    "pip install pywin32\n"
   ]
  },
  {
   "cell_type": "code",
   "execution_count": null,
   "id": "2e7b8623",
   "metadata": {},
   "outputs": [
    {
     "name": "stderr",
     "output_type": "stream",
     "text": [
      "C:\\Users\\ghio_\\AppData\\Local\\Temp\\ipykernel_16280\\1097799956.py:24: UserWarning: Glyph 9 (\t) missing from font(s) DejaVu Sans.\n",
      "  pdf.savefig(fig, bbox_inches='tight')\n",
      "C:\\Users\\ghio_\\AppData\\Local\\Temp\\ipykernel_16280\\1097799956.py:24: UserWarning: Glyph 9 (\t) missing from font(s) DejaVu Sans.\n",
      "  pdf.savefig(fig, bbox_inches='tight')\n",
      "C:\\Users\\ghio_\\AppData\\Local\\Temp\\ipykernel_16280\\1097799956.py:24: UserWarning: Glyph 9 (\t) missing from font(s) DejaVu Sans.\n",
      "  pdf.savefig(fig, bbox_inches='tight')\n",
      "C:\\Users\\ghio_\\AppData\\Local\\Temp\\ipykernel_16280\\1097799956.py:24: UserWarning: Glyph 9 (\t) missing from font(s) DejaVu Sans.\n",
      "  pdf.savefig(fig, bbox_inches='tight')\n",
      "C:\\Users\\ghio_\\AppData\\Local\\Temp\\ipykernel_16280\\1097799956.py:24: UserWarning: Glyph 9 (\t) missing from font(s) DejaVu Sans.\n",
      "  pdf.savefig(fig, bbox_inches='tight')\n",
      "C:\\Users\\ghio_\\AppData\\Local\\Temp\\ipykernel_16280\\1097799956.py:24: UserWarning: Glyph 9 (\t) missing from font(s) DejaVu Sans.\n",
      "  pdf.savefig(fig, bbox_inches='tight')\n",
      "C:\\Users\\ghio_\\AppData\\Local\\Temp\\ipykernel_16280\\1097799956.py:25: MatplotlibDeprecationWarning: Keeping empty pdf files is deprecated since 3.8 and support will be removed in 3.10.\n",
      "  plt.close()\n"
     ]
    },
    {
     "ename": "IndexError",
     "evalue": "index 0 is out of bounds for axis 0 with size 0",
     "output_type": "error",
     "traceback": [
      "\u001b[1;31m---------------------------------------------------------------------------\u001b[0m",
      "\u001b[1;31mIndexError\u001b[0m                                Traceback (most recent call last)",
      "Cell \u001b[1;32mIn[15], line 17\u001b[0m\n\u001b[0;32m     15\u001b[0m fig, ax \u001b[38;5;241m=\u001b[39m plt\u001b[38;5;241m.\u001b[39msubplots(figsize\u001b[38;5;241m=\u001b[39m(\u001b[38;5;241m12\u001b[39m, \u001b[38;5;28mmin\u001b[39m(\u001b[38;5;241m0.5\u001b[39m \u001b[38;5;241m*\u001b[39m \u001b[38;5;28mlen\u001b[39m(df), \u001b[38;5;241m20\u001b[39m)))  \u001b[38;5;66;03m# Adjust height\u001b[39;00m\n\u001b[0;32m     16\u001b[0m ax\u001b[38;5;241m.\u001b[39maxis(\u001b[38;5;124m'\u001b[39m\u001b[38;5;124moff\u001b[39m\u001b[38;5;124m'\u001b[39m)\n\u001b[1;32m---> 17\u001b[0m table \u001b[38;5;241m=\u001b[39m \u001b[43max\u001b[49m\u001b[38;5;241;43m.\u001b[39;49m\u001b[43mtable\u001b[49m\u001b[43m(\u001b[49m\u001b[43mcellText\u001b[49m\u001b[38;5;241;43m=\u001b[39;49m\u001b[43mdf\u001b[49m\u001b[38;5;241;43m.\u001b[39;49m\u001b[43mvalues\u001b[49m\u001b[43m,\u001b[49m\n\u001b[0;32m     18\u001b[0m \u001b[43m                 \u001b[49m\u001b[43mcolLabels\u001b[49m\u001b[38;5;241;43m=\u001b[39;49m\u001b[43mdf\u001b[49m\u001b[38;5;241;43m.\u001b[39;49m\u001b[43mcolumns\u001b[49m\u001b[43m,\u001b[49m\n\u001b[0;32m     19\u001b[0m \u001b[43m                 \u001b[49m\u001b[43mloc\u001b[49m\u001b[38;5;241;43m=\u001b[39;49m\u001b[38;5;124;43m'\u001b[39;49m\u001b[38;5;124;43mcenter\u001b[39;49m\u001b[38;5;124;43m'\u001b[39;49m\u001b[43m,\u001b[49m\n\u001b[0;32m     20\u001b[0m \u001b[43m                 \u001b[49m\u001b[43mcellLoc\u001b[49m\u001b[38;5;241;43m=\u001b[39;49m\u001b[38;5;124;43m'\u001b[39;49m\u001b[38;5;124;43mleft\u001b[39;49m\u001b[38;5;124;43m'\u001b[39;49m\u001b[43m)\u001b[49m\n\u001b[0;32m     21\u001b[0m table\u001b[38;5;241m.\u001b[39mauto_set_font_size(\u001b[38;5;28;01mFalse\u001b[39;00m)\n\u001b[0;32m     22\u001b[0m table\u001b[38;5;241m.\u001b[39mset_fontsize(\u001b[38;5;241m10\u001b[39m)\n",
      "File \u001b[1;32mc:\\Users\\ghio_\\anaconda3\\envs\\llm\\lib\\site-packages\\matplotlib\\table.py:749\u001b[0m, in \u001b[0;36mtable\u001b[1;34m(ax, cellText, cellColours, cellLoc, colWidths, rowLabels, rowColours, rowLoc, colLabels, colColours, colLoc, loc, bbox, edges, **kwargs)\u001b[0m\n\u001b[0;32m    746\u001b[0m     cellText \u001b[38;5;241m=\u001b[39m [[\u001b[38;5;124m'\u001b[39m\u001b[38;5;124m'\u001b[39m] \u001b[38;5;241m*\u001b[39m cols] \u001b[38;5;241m*\u001b[39m rows\n\u001b[0;32m    748\u001b[0m rows \u001b[38;5;241m=\u001b[39m \u001b[38;5;28mlen\u001b[39m(cellText)\n\u001b[1;32m--> 749\u001b[0m cols \u001b[38;5;241m=\u001b[39m \u001b[38;5;28mlen\u001b[39m(\u001b[43mcellText\u001b[49m\u001b[43m[\u001b[49m\u001b[38;5;241;43m0\u001b[39;49m\u001b[43m]\u001b[49m)\n\u001b[0;32m    750\u001b[0m \u001b[38;5;28;01mfor\u001b[39;00m row \u001b[38;5;129;01min\u001b[39;00m cellText:\n\u001b[0;32m    751\u001b[0m     \u001b[38;5;28;01mif\u001b[39;00m \u001b[38;5;28mlen\u001b[39m(row) \u001b[38;5;241m!=\u001b[39m cols:\n",
      "\u001b[1;31mIndexError\u001b[0m: index 0 is out of bounds for axis 0 with size 0"
     ]
    },
    {
     "name": "stderr",
     "output_type": "stream",
     "text": [
      "c:\\Users\\ghio_\\anaconda3\\envs\\llm\\lib\\site-packages\\matplotlib\\_tight_bbox.py:67: RuntimeWarning: divide by zero encountered in scalar divide\n",
      "  fig.patch.set_bounds(x0 / w1, y0 / h1,\n",
      "c:\\Users\\ghio_\\anaconda3\\envs\\llm\\lib\\site-packages\\matplotlib\\_tight_bbox.py:68: RuntimeWarning: divide by zero encountered in scalar divide\n",
      "  fig.bbox.width / w1, fig.bbox.height / h1)\n",
      "c:\\Users\\ghio_\\anaconda3\\envs\\llm\\lib\\site-packages\\matplotlib\\patches.py:787: RuntimeWarning: invalid value encountered in scalar add\n",
      "  y1 = self.convert_yunits(self._y0 + self._height)\n",
      "c:\\Users\\ghio_\\anaconda3\\envs\\llm\\lib\\site-packages\\matplotlib\\transforms.py:2049: RuntimeWarning: invalid value encountered in scalar add\n",
      "  self._mtx[1, 2] += ty\n"
     ]
    },
    {
     "data": {
      "image/png": "[encoded data removed]",
      "text/plain": [
       "<Figure size 1200x0 with 1 Axes>"
      ]
     },
     "metadata": {},
     "output_type": "display_data"
    }
   ],
   "source": [
    "import os\n",
    "import win32com.client as win32\n",
    "\n",
    "excel_path = r'C:/Users/ghio_/Desktop/Semester 8/LLMs/Project/data/NUST Bank-Product-Knowledge.xlsx'  # Adjust this\n",
    "output_dir = r'C:/Users/ghio_/Desktop/Semester 8/LLMs/Project/data/pdfs'  # Change to where you want to save\n",
    "\n",
    "# Ensure output directory exists\n",
    "os.makedirs(output_dir, exist_ok=True)\n",
    "\n",
    "# Launch Excel\n",
    "excel = win32.gencache.EnsureDispatch('Excel.Application')\n",
    "excel.Visible = False\n",
    "wb = excel.Workbooks.Open(excel_path)\n",
    "\n",
    "for sheet in wb.Sheets:\n",
    "    sheet_name = sheet.Name\n",
    "    output_path = os.path.join(output_dir, f\"{sheet_name}.pdf\")\n",
    "    sheet.Select()\n",
    "    sheet.ExportAsFixedFormat(0, output_path)  # 0 = PDF format\n",
    "\n",
    "wb.Close(False)\n",
    "excel.Quit()\n"
   ]
  }
 ],
 "metadata": {
  "kernelspec": {
   "display_name": "llm",
   "language": "python",
   "name": "python3"
  },
  "language_info": {
   "codemirror_mode": {
    "name": "ipython",
    "version": 3
   },
   "file_extension": ".py",
   "mimetype": "text/x-python",
   "name": "python",
   "nbconvert_exporter": "python",
   "pygments_lexer": "ipython3",
   "version": "3.9.20"
  }
 },
 "nbformat": 4,
 "nbformat_minor": 5
}
